{
 "cells": [
  {
   "cell_type": "code",
   "execution_count": 3,
   "id": "2494bdba",
   "metadata": {},
   "outputs": [],
   "source": [
    "#Bonus 1. Create a function named twelveto24. It should accept a string in the format 10:45am or 4:30pm and return a string that is the representation of the time in a 24-hour format. Bonus write a function that does the opposite.\n",
    "def twelveto24(time):\n",
    "    if time.find('am') == True:\n",
    "        if len(time) == 6:\n",
    "            time = '0' + time\n",
    "            time = time.replace('am', '')\n",
    "            return time\n",
    "        else:\n",
    "            time.replace('am', '')\n",
    "            return time\n",
    "    if time.find('pm') == True:\n",
    "        time = time.replace('pm', '')\n",
    "        time = time.replace(':', '')\n",
    "        time = int(time) + 1200\n",
    "        time = str(time)\n",
    "        time = time[2:] + ':' + time[:2]\n",
    "        return time\n",
    "twelveto24('12:45am')"
   ]
  },
  {
   "cell_type": "code",
   "execution_count": 8,
   "id": "b83e0b0b",
   "metadata": {},
   "outputs": [],
   "source": [
    "#Create a function named col_index. It should accept a spreadsheet column name, and return the index number of the column.\n",
    "    #col_index('A') returns 1\n",
    "    #col_index('B') returns 2\n",
    "    #col_index('AA') returns 27"
   ]
  },
  {
   "cell_type": "code",
   "execution_count": 7,
   "id": "7d51fde0",
   "metadata": {},
   "outputs": [],
   "source": [
    "def twelveto24(time):\n",
    "    if time.find('am') == True:\n",
    "        if len(time) == 6:\n",
    "            time = '0' + time\n",
    "            time = time.replace('am', '')\n",
    "            return time\n",
    "        else:\n",
    "            time.replace('am', '')\n",
    "            return time\n",
    "    if time.find('pm') == True:\n",
    "        if len(time) == 6:\n",
    "            time = time.replace('pm', '')\n",
    "            time = time.replace(':', '')\n",
    "            time = int(time) + 1200\n",
    "            time = str(time)\n",
    "            time = time[2:] + ':' + time[:2]\n",
    "            return time\n",
    "twelveto24('12:44pm')"
   ]
  },
  {
   "cell_type": "code",
   "execution_count": null,
   "id": "23ec685f",
   "metadata": {},
   "outputs": [],
   "source": []
  }
 ],
 "metadata": {
  "kernelspec": {
   "display_name": "Python 3",
   "language": "python",
   "name": "python3"
  },
  "language_info": {
   "codemirror_mode": {
    "name": "ipython",
    "version": 3
   },
   "file_extension": ".py",
   "mimetype": "text/x-python",
   "name": "python",
   "nbconvert_exporter": "python",
   "pygments_lexer": "ipython3",
   "version": "3.8.8"
  }
 },
 "nbformat": 4,
 "nbformat_minor": 5
}
